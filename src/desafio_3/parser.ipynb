{
 "cells": [
  {
   "cell_type": "code",
   "execution_count": 20,
   "metadata": {},
   "outputs": [],
   "source": [
    "import json\n",
    "import pandas as pd"
   ]
  },
  {
   "cell_type": "code",
   "execution_count": 21,
   "metadata": {},
   "outputs": [],
   "source": [
    "# Lista de chaves com valores escalares ou lista de escalar\n",
    "keys = ['CreateDate','EmissionDate','Discount','NFeNumber','NFeID']"
   ]
  },
  {
   "cell_type": "code",
   "execution_count": 22,
   "metadata": {},
   "outputs": [],
   "source": [
    "class Parser:\n",
    "    def __init__(self):\n",
    "        pass\n",
    "    def explode(self,record,key_id):\n",
    "        df = pd.DataFrame.from_records(record['ItemList'])\n",
    "        df['id'] = record[key_id]\n",
    "        return df\n",
    "    def normalize(self,record,list_key):\n",
    "        return pd.DataFrame.from_dict({ x: [record[x]] for x in list_key})"
   ]
  },
  {
   "cell_type": "code",
   "execution_count": 23,
   "metadata": {},
   "outputs": [],
   "source": [
    "parseador = Parser()"
   ]
  },
  {
   "cell_type": "code",
   "execution_count": 24,
   "metadata": {},
   "outputs": [],
   "source": [
    "# Lendo Json\n",
    "records = json.load(open('data.json'))"
   ]
  },
  {
   "cell_type": "code",
   "execution_count": 25,
   "metadata": {},
   "outputs": [
    {
     "data": {
      "text/html": [
       "<div>\n",
       "<style scoped>\n",
       "    .dataframe tbody tr th:only-of-type {\n",
       "        vertical-align: middle;\n",
       "    }\n",
       "\n",
       "    .dataframe tbody tr th {\n",
       "        vertical-align: top;\n",
       "    }\n",
       "\n",
       "    .dataframe thead th {\n",
       "        text-align: right;\n",
       "    }\n",
       "</style>\n",
       "<table border=\"1\" class=\"dataframe\">\n",
       "  <thead>\n",
       "    <tr style=\"text-align: right;\">\n",
       "      <th></th>\n",
       "      <th>CreateDate</th>\n",
       "      <th>EmissionDate</th>\n",
       "      <th>Discount</th>\n",
       "      <th>NFeNumber</th>\n",
       "      <th>NFeID</th>\n",
       "    </tr>\n",
       "  </thead>\n",
       "  <tbody>\n",
       "    <tr>\n",
       "      <th>0</th>\n",
       "      <td>2021-05-24T20:21:34.79</td>\n",
       "      <td>2021-05-24T00:00:00</td>\n",
       "      <td>0.0</td>\n",
       "      <td>501</td>\n",
       "      <td>1</td>\n",
       "    </tr>\n",
       "    <tr>\n",
       "      <th>0</th>\n",
       "      <td>2021-05-24T20:21:34.79</td>\n",
       "      <td>2021-05-24T00:00:00</td>\n",
       "      <td>0.0</td>\n",
       "      <td>502</td>\n",
       "      <td>2</td>\n",
       "    </tr>\n",
       "    <tr>\n",
       "      <th>0</th>\n",
       "      <td>2021-05-24T20:21:34.79</td>\n",
       "      <td>2021-05-24T00:00:00</td>\n",
       "      <td>0.0</td>\n",
       "      <td>503</td>\n",
       "      <td>3</td>\n",
       "    </tr>\n",
       "  </tbody>\n",
       "</table>\n",
       "</div>"
      ],
      "text/plain": [
       "               CreateDate         EmissionDate  Discount  NFeNumber  NFeID\n",
       "0  2021-05-24T20:21:34.79  2021-05-24T00:00:00       0.0        501      1\n",
       "0  2021-05-24T20:21:34.79  2021-05-24T00:00:00       0.0        502      2\n",
       "0  2021-05-24T20:21:34.79  2021-05-24T00:00:00       0.0        503      3"
      ]
     },
     "execution_count": 25,
     "metadata": {},
     "output_type": "execute_result"
    }
   ],
   "source": [
    "# Gerando dataframe das NF's \n",
    "list_df = [parseador.normalize(x,keys) for x in records]\n",
    "pd.concat(list_df)"
   ]
  },
  {
   "cell_type": "code",
   "execution_count": 26,
   "metadata": {},
   "outputs": [
    {
     "data": {
      "text/html": [
       "<div>\n",
       "<style scoped>\n",
       "    .dataframe tbody tr th:only-of-type {\n",
       "        vertical-align: middle;\n",
       "    }\n",
       "\n",
       "    .dataframe tbody tr th {\n",
       "        vertical-align: top;\n",
       "    }\n",
       "\n",
       "    .dataframe thead th {\n",
       "        text-align: right;\n",
       "    }\n",
       "</style>\n",
       "<table border=\"1\" class=\"dataframe\">\n",
       "  <thead>\n",
       "    <tr style=\"text-align: right;\">\n",
       "      <th></th>\n",
       "      <th>ProductName</th>\n",
       "      <th>Value</th>\n",
       "      <th>Quantity</th>\n",
       "      <th>NFeID</th>\n",
       "    </tr>\n",
       "  </thead>\n",
       "  <tbody>\n",
       "    <tr>\n",
       "      <th>0</th>\n",
       "      <td>Rice</td>\n",
       "      <td>35.55</td>\n",
       "      <td>2</td>\n",
       "      <td>1</td>\n",
       "    </tr>\n",
       "    <tr>\n",
       "      <th>1</th>\n",
       "      <td>Flour</td>\n",
       "      <td>11.55</td>\n",
       "      <td>5</td>\n",
       "      <td>1</td>\n",
       "    </tr>\n",
       "    <tr>\n",
       "      <th>2</th>\n",
       "      <td>Bean</td>\n",
       "      <td>27.15</td>\n",
       "      <td>7</td>\n",
       "      <td>1</td>\n",
       "    </tr>\n",
       "    <tr>\n",
       "      <th>0</th>\n",
       "      <td>Tomate</td>\n",
       "      <td>12.25</td>\n",
       "      <td>10</td>\n",
       "      <td>2</td>\n",
       "    </tr>\n",
       "    <tr>\n",
       "      <th>1</th>\n",
       "      <td>Pasta</td>\n",
       "      <td>7.55</td>\n",
       "      <td>5</td>\n",
       "      <td>2</td>\n",
       "    </tr>\n",
       "    <tr>\n",
       "      <th>0</th>\n",
       "      <td>Beer</td>\n",
       "      <td>9.00</td>\n",
       "      <td>6</td>\n",
       "      <td>3</td>\n",
       "    </tr>\n",
       "    <tr>\n",
       "      <th>1</th>\n",
       "      <td>French fries</td>\n",
       "      <td>10.99</td>\n",
       "      <td>2</td>\n",
       "      <td>3</td>\n",
       "    </tr>\n",
       "    <tr>\n",
       "      <th>2</th>\n",
       "      <td>Ice cream</td>\n",
       "      <td>27.15</td>\n",
       "      <td>1</td>\n",
       "      <td>3</td>\n",
       "    </tr>\n",
       "  </tbody>\n",
       "</table>\n",
       "</div>"
      ],
      "text/plain": [
       "    ProductName  Value  Quantity  NFeID\n",
       "0          Rice  35.55         2      1\n",
       "1         Flour  11.55         5      1\n",
       "2          Bean  27.15         7      1\n",
       "0        Tomate  12.25        10      2\n",
       "1         Pasta   7.55         5      2\n",
       "0          Beer   9.00         6      3\n",
       "1  French fries  10.99         2      3\n",
       "2     Ice cream  27.15         1      3"
      ]
     },
     "execution_count": 26,
     "metadata": {},
     "output_type": "execute_result"
    }
   ],
   "source": [
    "# Gerando dataframe da lista de items\n",
    "list_df = [parseador.explode(x,'NFeID') for x in records]\n",
    "pd.concat(list_df)"
   ]
  }
 ],
 "metadata": {
  "kernelspec": {
   "display_name": "Python 3.7.2 ('area-interna')",
   "language": "python",
   "name": "python3"
  },
  "language_info": {
   "codemirror_mode": {
    "name": "ipython",
    "version": 3
   },
   "file_extension": ".py",
   "mimetype": "text/x-python",
   "name": "python",
   "nbconvert_exporter": "python",
   "pygments_lexer": "ipython3",
   "version": "3.7.2"
  },
  "orig_nbformat": 4,
  "vscode": {
   "interpreter": {
    "hash": "c7759577505bb33682b11b28418ee9fae4d45374dd664b8eccd28ba3aa21290e"
   }
  }
 },
 "nbformat": 4,
 "nbformat_minor": 2
}
